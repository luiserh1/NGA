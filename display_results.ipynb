{
  "nbformat": 4,
  "nbformat_minor": 0,
  "metadata": {
    "colab": {
      "name": "display_results.ipynb",
      "provenance": []
    },
    "kernelspec": {
      "name": "python3",
      "display_name": "Python 3"
    },
    "language_info": {
      "name": "python"
    }
  },
  "cells": [
    {
      "cell_type": "markdown",
      "metadata": {
        "id": "Qgh-OHHcJ1MD"
      },
      "source": [
        "Requisitos"
      ]
    },
    {
      "cell_type": "code",
      "metadata": {
        "id": "gCiPr1i0IdzU",
        "colab": {
          "base_uri": "https://localhost:8080/"
        },
        "outputId": "63a997f9-0775-4feb-dde8-2fbc6b09b106"
      },
      "source": [
        "!pip install matplotlib\n",
        "!pip install pandas"
      ],
      "execution_count": 242,
      "outputs": [
        {
          "output_type": "stream",
          "text": [
            "Requirement already satisfied: matplotlib in /usr/local/lib/python3.7/dist-packages (3.2.2)\n",
            "Requirement already satisfied: pyparsing!=2.0.4,!=2.1.2,!=2.1.6,>=2.0.1 in /usr/local/lib/python3.7/dist-packages (from matplotlib) (2.4.7)\n",
            "Requirement already satisfied: kiwisolver>=1.0.1 in /usr/local/lib/python3.7/dist-packages (from matplotlib) (1.3.1)\n",
            "Requirement already satisfied: cycler>=0.10 in /usr/local/lib/python3.7/dist-packages (from matplotlib) (0.10.0)\n",
            "Requirement already satisfied: python-dateutil>=2.1 in /usr/local/lib/python3.7/dist-packages (from matplotlib) (2.8.1)\n",
            "Requirement already satisfied: numpy>=1.11 in /usr/local/lib/python3.7/dist-packages (from matplotlib) (1.19.5)\n",
            "Requirement already satisfied: six in /usr/local/lib/python3.7/dist-packages (from cycler>=0.10->matplotlib) (1.15.0)\n",
            "Requirement already satisfied: pandas in /usr/local/lib/python3.7/dist-packages (1.1.5)\n",
            "Requirement already satisfied: python-dateutil>=2.7.3 in /usr/local/lib/python3.7/dist-packages (from pandas) (2.8.1)\n",
            "Requirement already satisfied: pytz>=2017.2 in /usr/local/lib/python3.7/dist-packages (from pandas) (2018.9)\n",
            "Requirement already satisfied: numpy>=1.15.4 in /usr/local/lib/python3.7/dist-packages (from pandas) (1.19.5)\n",
            "Requirement already satisfied: six>=1.5 in /usr/local/lib/python3.7/dist-packages (from python-dateutil>=2.7.3->pandas) (1.15.0)\n"
          ],
          "name": "stdout"
        }
      ]
    },
    {
      "cell_type": "code",
      "metadata": {
        "id": "4C0wHnbGJ0q3"
      },
      "source": [
        "import matplotlib.pyplot as plt\n",
        "import pandas as pd\n",
        "import scipy.stats as st\n",
        "import numpy as np"
      ],
      "execution_count": 243,
      "outputs": []
    },
    {
      "cell_type": "markdown",
      "metadata": {
        "id": "pfU_APv8KwEi"
      },
      "source": [
        "Resultados de los torneos cargados directamente desde GitHub"
      ]
    },
    {
      "cell_type": "code",
      "metadata": {
        "id": "eJRxf7DKKJbd"
      },
      "source": [
        "nice_or_die_dom = \"https://github.com/luiserh1/NGA/raw/main/log/dom1.csv\"\n",
        "grocery_dom = \"https://github.com/luiserh1/NGA/raw/main/log/dom2.csv\"\n",
        "energy_dom = \"https://github.com/luiserh1/NGA/raw/main/log/dom3.csv\""
      ],
      "execution_count": 244,
      "outputs": []
    },
    {
      "cell_type": "code",
      "metadata": {
        "id": "6JS6ct8FK9Cb"
      },
      "source": [
        "dom1_df = pd.read_csv(nice_or_die_dom, sep=';')\n",
        "dom2_df = pd.read_csv(grocery_dom, sep=';')\n",
        "#dom3_df = pd.read_csv(energy_dom)"
      ],
      "execution_count": 245,
      "outputs": []
    },
    {
      "cell_type": "code",
      "metadata": {
        "colab": {
          "base_uri": "https://localhost:8080/"
        },
        "id": "Szf7QFj4NhKf",
        "outputId": "3a9c79e4-7a95-4087-cd16-73c265a6a702"
      },
      "source": [
        "print(dom1_df[:2])\n",
        "print(dom2_df[:2])"
      ],
      "execution_count": 246,
      "outputs": [
        {
          "output_type": "stream",
          "text": [
            "  Run time (s)  Round  Exception  ... User Util. 2       Profile 1       Profile 2\n",
            "0        0,986   1001        NaN  ...          0.0  NiceOrDie1.xml  NiceOrDie2.xml\n",
            "1        0,674   1001        NaN  ...          0.0  NiceOrDie1.xml  NiceOrDie2.xml\n",
            "\n",
            "[2 rows x 26 columns]\n",
            "  Run time (s)  Round  ...               Profile 1                Profile 2\n",
            "0        0,528   1001  ...  Grocery_domain_sam.xml  Grocery_domain_mary.xml\n",
            "1        0,461    732  ...  Grocery_domain_sam.xml  Grocery_domain_mary.xml\n",
            "\n",
            "[2 rows x 26 columns]\n"
          ],
          "name": "stdout"
        }
      ]
    },
    {
      "cell_type": "markdown",
      "metadata": {
        "id": "dcBVd_gxLQGT"
      },
      "source": [
        "Extraenos la información que nos interesa"
      ]
    },
    {
      "cell_type": "code",
      "metadata": {
        "colab": {
          "base_uri": "https://localhost:8080/"
        },
        "id": "LMc0OtRvkj0E",
        "outputId": "3ba39b96-607b-442f-f30d-a0c194dc58e5"
      },
      "source": [
        "print(dom1_df.columns)"
      ],
      "execution_count": 247,
      "outputs": [
        {
          "output_type": "stream",
          "text": [
            "Index(['Run time (s)', 'Round', 'Exception', 'deadline', 'Agreement',\n",
            "       'Discounted', '#agreeing', 'min.util.', 'max.util.', 'Dist. to Pareto',\n",
            "       'Dist. to Nash', 'Social Welfare', 'Agent 1', 'Agent 2', 'Utility 1',\n",
            "       'Utility 2', 'Disc. Util. 1', 'Disc. Util. 2', 'Perceived. Util. 1',\n",
            "       'Perceived. Util. 2', 'User Bother 1', 'User Bother 2', 'User Util. 1',\n",
            "       'User Util. 2', 'Profile 1', 'Profile 2'],\n",
            "      dtype='object')\n"
          ],
          "name": "stdout"
        }
      ]
    },
    {
      "cell_type": "markdown",
      "metadata": {
        "id": "wgCe2CoB3zar"
      },
      "source": [
        "Definimos la rejilla y una serie de identificadores para los hiperparámtros\n",
        "Las claves de la rejilla son tuplas de 4 valores"
      ]
    },
    {
      "cell_type": "code",
      "metadata": {
        "id": "sRwHQ6S83ywk"
      },
      "source": [
        "BIDDING_STRATEGY = 0\n",
        "ACCEPTANCE_STRATEGY = 1\n",
        "OPPONENT_MODEL = 2\n",
        "OPPONENT_MODEL_STRATEGY = 3\n",
        "\n",
        "OPPONENT = 0\n",
        "AGREEMENT = 1\n",
        "UTILITY = 2\n",
        "RUN_TIME = 3\n",
        "IS_CHALLENGE = 4\n",
        "PROFILE = 5"
      ],
      "execution_count": 248,
      "outputs": []
    },
    {
      "cell_type": "code",
      "metadata": {
        "id": "_HJkMPCj2eNT"
      },
      "source": [
        "def clean_agent_name(text):\n",
        "    text = text[:text.index(\"@\")]\n",
        "    challenger = True\n",
        "    try:\n",
        "      text = text[text.index(\"anac201\")+9:]\n",
        "      text = text.replace(\".anac2011.\",\"\")\n",
        "      text = \"\\t\\t\".join(text.split(\".boaframework.\"))\n",
        "      text = text.replace(\"_Offering\",\"\")\n",
        "      text = text.replace(\"-negotiator\",\"\")\n",
        "      text = text.replace(\"acceptanceconditions\",\"\")\n",
        "      text = text.replace(\"opponentmodel.\",\"\")\n",
        "      text = text.replace(\"omstrategy.\",\"\")\n",
        "      text = text.replace(\"_t_n\",\"\")\n",
        "      text = text.replace(\"_n_t\",\"\")\n",
        "    except ValueError:\n",
        "      challenger = False\n",
        "    return (text, challenger)"
      ],
      "execution_count": 249,
      "outputs": []
    },
    {
      "cell_type": "code",
      "metadata": {
        "id": "7_SEQ7Bq-x8t"
      },
      "source": [
        "def get_grid(data_frame):\n",
        "  grid = {}\n",
        "  for i in range(len(data_frame)):\n",
        "    agent1 = data_frame.at[i, \"Agent 1\"]\n",
        "    agent1, challenger1 = clean_agent_name(agent1)\n",
        "    agent2 = data_frame.at[i, \"Agent 2\"]\n",
        "    agent2, challenger2 = clean_agent_name(agent2)\n",
        "    utility1 = float(data_frame.at[i, \"Utility 1\"])\n",
        "    utility2 = float(data_frame.at[i, \"Utility 2\"])\n",
        "    profile1 = data_frame.at[i, \"Profile 1\"]\n",
        "    profile2 = data_frame.at[i, \"Profile 2\"]\n",
        "    run_time = float(data_frame.at[i, \"Run time (s)\"].replace(\",\", \".\"))\n",
        "    agreement = data_frame.at[i, \"Agreement\"] == \"Yes\"\n",
        "    if challenger1:\n",
        "      hiperparameters = agent1.split(\"\\t\\t\")\n",
        "      key = tuple(hiperparameters)\n",
        "      rows = grid.get(key, [])\n",
        "      row = tuple([agent2, agreement, utility1, run_time, not challenger2,\n",
        "                   profile1])\n",
        "      rows.append(row)\n",
        "      grid[key] = rows\n",
        "    if challenger2:\n",
        "      hiperparameters = agent2.split(\"\\t\\t\")\n",
        "      key = tuple(hiperparameters)\n",
        "      rows = grid.get(key, [])\n",
        "      row = tuple([agent1, agreement,utility2, run_time, not challenger1,\n",
        "                   profile2])\n",
        "      rows.append(row)\n",
        "      grid[key] = rows\n",
        "  return grid"
      ],
      "execution_count": 250,
      "outputs": []
    },
    {
      "cell_type": "code",
      "metadata": {
        "id": "eU3W2c03CU6A"
      },
      "source": [
        "grid1 = get_grid(dom1_df)"
      ],
      "execution_count": 255,
      "outputs": []
    },
    {
      "cell_type": "code",
      "metadata": {
        "colab": {
          "base_uri": "https://localhost:8080/"
        },
        "id": "kSxD2oe3ClNQ",
        "outputId": "488562e7-a1ad-4e74-93f7-59a75a2779d7"
      },
      "source": [
        "for key in grid1.keys():\n",
        "  print(key)"
      ],
      "execution_count": 256,
      "outputs": [
        {
          "output_type": "stream",
          "text": [
            "('Nozomi', 'AC_HardHeaded', 'UniformModel', 'OfferBestN')\n",
            "('TheNegotiator', 'AC_HardHeaded', 'UniformModel', 'OfferBestN')\n",
            "('Nozomi', 'AC_HardHeaded', 'OppositeModel', 'OfferBestN')\n",
            "('TheNegotiator', 'AC_HardHeaded', 'OppositeModel', 'OfferBestN')\n",
            "('Nozomi', 'AC_IAMHaggler2011', 'UniformModel', 'OfferBestN')\n",
            "('TheNegotiator', 'AC_IAMHaggler2011', 'OppositeModel', 'OfferBestN')\n",
            "('Nozomi', 'AC_IAMHaggler2011', 'OppositeModel', 'OfferBestN')\n",
            "('TheNegotiator', 'AC_IAMHaggler2011', 'UniformModel', 'OfferBestN')\n",
            "('TheNegotiator', 'AC_IAMHaggler2011', 'BayesianModel_m', 'OfferBestN')\n",
            "('Nozomi', 'AC_IAMHaggler2011', 'BayesianModel_m', 'OfferBestN')\n",
            "('TheNegotiator', 'AC_HardHeaded', 'BayesianModel_m', 'OfferBestN')\n",
            "('Nozomi', 'AC_HardHeaded', 'BayesianModel_m', 'OfferBestN')\n",
            "('BRAMAgent', 'AC_HardHeaded', 'UniformModel', 'OfferBestN')\n",
            "('BRAMAgent', 'AC_HardHeaded', 'OppositeModel', 'OfferBestN')\n",
            "('BRAMAgent', 'AC_IAMHaggler2011', 'OppositeModel', 'OfferBestN')\n",
            "('BRAMAgent', 'AC_IAMHaggler2011', 'UniformModel', 'OfferBestN')\n",
            "('BRAMAgent', 'AC_IAMHaggler2011', 'BayesianModel_m', 'OfferBestN')\n",
            "('BRAMAgent', 'AC_HardHeaded', 'BayesianModel_m', 'OfferBestN')\n"
          ],
          "name": "stdout"
        }
      ]
    },
    {
      "cell_type": "code",
      "metadata": {
        "id": "3Ko3xiMSDz5J"
      },
      "source": [
        "def get_profile_averages(grid):\n",
        "  agent_profile_averages = dict()\n",
        "  for agent in  grid.keys():\n",
        "    rows = grid[agent]\n",
        "    profiles = dict()\n",
        "    for row in rows:\n",
        "      profile = row[PROFILE]\n",
        "      values = profiles.get(profile, [])\n",
        "      values.append(row[UTILITY])\n",
        "      profiles[profile] = values\n",
        "    my_averages = dict()\n",
        "    for profile in profiles.keys():\n",
        "      average = sum(profiles[profile]) / len(profiles[profile])\n",
        "      my_averages[profile] = average\n",
        "    agent_profile_averages[agent] = my_averages\n",
        "  return agent_profile_averages\n",
        "\n",
        "\n",
        "def normalize_averages(prof_averages):\n",
        "  profiles = None\n",
        "  for agent in prof_averages:\n",
        "    profiles = set(prof_averages[agent].keys())\n",
        "  normalized_averages = dict()\n",
        "  bounds_per_profile = dict()\n",
        "  for profile in profiles:\n",
        "    values = []\n",
        "    for agent in prof_averages:\n",
        "      values.append(prof_averages[agent][profile])\n",
        "    bounds_per_profile[profile] = (min(values), max(values))\n",
        "  for agent in prof_averages:\n",
        "    normalized_averages[agent] = dict()\n",
        "    for profile in profiles:\n",
        "      normalized_averages[agent][profile] = \\\n",
        "        (prof_averages[agent][profile] - bounds_per_profile[profile][0]) / \\\n",
        "        (bounds_per_profile[profile][1] - bounds_per_profile[profile][0])\n",
        "  return normalized_averages"
      ],
      "execution_count": 257,
      "outputs": []
    },
    {
      "cell_type": "code",
      "metadata": {
        "id": "Iqwar-kHRf4d",
        "outputId": "a4582a91-5274-42cf-c730-e1860a687f05",
        "colab": {
          "base_uri": "https://localhost:8080/"
        }
      },
      "source": [
        "prof_averages = get_profile_averages(grid1)\n",
        "for agent in prof_averages:\n",
        "  print(\"{}\\t=>\\t\\t\\t\\t\\t{}\".format(agent, prof_averages[agent]))\n",
        "print(\"\\n==================================================\\n\")\n",
        "norm_prof_averages = normalize_averages(prof_averages)\n",
        "for agent in norm_prof_averages:\n",
        "  print(\"{}\\t=>\\t\\t\\t\\t\\t{}\".format(agent, norm_prof_averages[agent]))"
      ],
      "execution_count": 258,
      "outputs": [
        {
          "output_type": "stream",
          "text": [
            "('Nozomi', 'AC_HardHeaded', 'UniformModel', 'OfferBestN')\t=>\t\t\t\t\t{'NiceOrDie1.xml': 0.0, 'NiceOrDie2.xml': 0.045454545454545456}\n",
            "('TheNegotiator', 'AC_HardHeaded', 'UniformModel', 'OfferBestN')\t=>\t\t\t\t\t{'NiceOrDie1.xml': 0.08834090909090908, 'NiceOrDie2.xml': 0.10872727272727274}\n",
            "('Nozomi', 'AC_HardHeaded', 'OppositeModel', 'OfferBestN')\t=>\t\t\t\t\t{'NiceOrDie1.xml': 0.0, 'NiceOrDie2.xml': 0.045454545454545456}\n",
            "('TheNegotiator', 'AC_HardHeaded', 'OppositeModel', 'OfferBestN')\t=>\t\t\t\t\t{'NiceOrDie1.xml': 0.09513636363636363, 'NiceOrDie2.xml': 0.10872727272727274}\n",
            "('Nozomi', 'AC_IAMHaggler2011', 'UniformModel', 'OfferBestN')\t=>\t\t\t\t\t{'NiceOrDie1.xml': 0.0, 'NiceOrDie2.xml': 0.045454545454545456}\n",
            "('TheNegotiator', 'AC_IAMHaggler2011', 'OppositeModel', 'OfferBestN')\t=>\t\t\t\t\t{'NiceOrDie1.xml': 0.08154545454545453, 'NiceOrDie2.xml': 0.10872727272727274}\n",
            "('Nozomi', 'AC_IAMHaggler2011', 'OppositeModel', 'OfferBestN')\t=>\t\t\t\t\t{'NiceOrDie1.xml': 0.0, 'NiceOrDie2.xml': 0.045454545454545456}\n",
            "('TheNegotiator', 'AC_IAMHaggler2011', 'UniformModel', 'OfferBestN')\t=>\t\t\t\t\t{'NiceOrDie1.xml': 0.08834090909090908, 'NiceOrDie2.xml': 0.10872727272727274}\n",
            "('TheNegotiator', 'AC_IAMHaggler2011', 'BayesianModel_m', 'OfferBestN')\t=>\t\t\t\t\t{'NiceOrDie1.xml': 0.08154545454545453, 'NiceOrDie2.xml': 0.10872727272727274}\n",
            "('Nozomi', 'AC_IAMHaggler2011', 'BayesianModel_m', 'OfferBestN')\t=>\t\t\t\t\t{'NiceOrDie1.xml': 0.0, 'NiceOrDie2.xml': 0.045454545454545456}\n",
            "('TheNegotiator', 'AC_HardHeaded', 'BayesianModel_m', 'OfferBestN')\t=>\t\t\t\t\t{'NiceOrDie1.xml': 0.09513636363636363, 'NiceOrDie2.xml': 0.10872727272727274}\n",
            "('Nozomi', 'AC_HardHeaded', 'BayesianModel_m', 'OfferBestN')\t=>\t\t\t\t\t{'NiceOrDie1.xml': 0.0, 'NiceOrDie2.xml': 0.045454545454545456}\n",
            "('BRAMAgent', 'AC_HardHeaded', 'UniformModel', 'OfferBestN')\t=>\t\t\t\t\t{'NiceOrDie1.xml': 0.0, 'NiceOrDie2.xml': 0.045454545454545456}\n",
            "('BRAMAgent', 'AC_HardHeaded', 'OppositeModel', 'OfferBestN')\t=>\t\t\t\t\t{'NiceOrDie1.xml': 0.0, 'NiceOrDie2.xml': 0.045454545454545456}\n",
            "('BRAMAgent', 'AC_IAMHaggler2011', 'OppositeModel', 'OfferBestN')\t=>\t\t\t\t\t{'NiceOrDie1.xml': 0.0, 'NiceOrDie2.xml': 0.045454545454545456}\n",
            "('BRAMAgent', 'AC_IAMHaggler2011', 'UniformModel', 'OfferBestN')\t=>\t\t\t\t\t{'NiceOrDie1.xml': 0.0, 'NiceOrDie2.xml': 0.045454545454545456}\n",
            "('BRAMAgent', 'AC_IAMHaggler2011', 'BayesianModel_m', 'OfferBestN')\t=>\t\t\t\t\t{'NiceOrDie1.xml': 0.0, 'NiceOrDie2.xml': 0.045454545454545456}\n",
            "('BRAMAgent', 'AC_HardHeaded', 'BayesianModel_m', 'OfferBestN')\t=>\t\t\t\t\t{'NiceOrDie1.xml': 0.0, 'NiceOrDie2.xml': 0.045454545454545456}\n",
            "\n",
            "==================================================\n",
            "\n",
            "('Nozomi', 'AC_HardHeaded', 'UniformModel', 'OfferBestN')\t=>\t\t\t\t\t{'NiceOrDie2.xml': 0.0, 'NiceOrDie1.xml': 0.0}\n",
            "('TheNegotiator', 'AC_HardHeaded', 'UniformModel', 'OfferBestN')\t=>\t\t\t\t\t{'NiceOrDie2.xml': 1.0, 'NiceOrDie1.xml': 0.9285714285714285}\n",
            "('Nozomi', 'AC_HardHeaded', 'OppositeModel', 'OfferBestN')\t=>\t\t\t\t\t{'NiceOrDie2.xml': 0.0, 'NiceOrDie1.xml': 0.0}\n",
            "('TheNegotiator', 'AC_HardHeaded', 'OppositeModel', 'OfferBestN')\t=>\t\t\t\t\t{'NiceOrDie2.xml': 1.0, 'NiceOrDie1.xml': 1.0}\n",
            "('Nozomi', 'AC_IAMHaggler2011', 'UniformModel', 'OfferBestN')\t=>\t\t\t\t\t{'NiceOrDie2.xml': 0.0, 'NiceOrDie1.xml': 0.0}\n",
            "('TheNegotiator', 'AC_IAMHaggler2011', 'OppositeModel', 'OfferBestN')\t=>\t\t\t\t\t{'NiceOrDie2.xml': 1.0, 'NiceOrDie1.xml': 0.8571428571428571}\n",
            "('Nozomi', 'AC_IAMHaggler2011', 'OppositeModel', 'OfferBestN')\t=>\t\t\t\t\t{'NiceOrDie2.xml': 0.0, 'NiceOrDie1.xml': 0.0}\n",
            "('TheNegotiator', 'AC_IAMHaggler2011', 'UniformModel', 'OfferBestN')\t=>\t\t\t\t\t{'NiceOrDie2.xml': 1.0, 'NiceOrDie1.xml': 0.9285714285714285}\n",
            "('TheNegotiator', 'AC_IAMHaggler2011', 'BayesianModel_m', 'OfferBestN')\t=>\t\t\t\t\t{'NiceOrDie2.xml': 1.0, 'NiceOrDie1.xml': 0.8571428571428571}\n",
            "('Nozomi', 'AC_IAMHaggler2011', 'BayesianModel_m', 'OfferBestN')\t=>\t\t\t\t\t{'NiceOrDie2.xml': 0.0, 'NiceOrDie1.xml': 0.0}\n",
            "('TheNegotiator', 'AC_HardHeaded', 'BayesianModel_m', 'OfferBestN')\t=>\t\t\t\t\t{'NiceOrDie2.xml': 1.0, 'NiceOrDie1.xml': 1.0}\n",
            "('Nozomi', 'AC_HardHeaded', 'BayesianModel_m', 'OfferBestN')\t=>\t\t\t\t\t{'NiceOrDie2.xml': 0.0, 'NiceOrDie1.xml': 0.0}\n",
            "('BRAMAgent', 'AC_HardHeaded', 'UniformModel', 'OfferBestN')\t=>\t\t\t\t\t{'NiceOrDie2.xml': 0.0, 'NiceOrDie1.xml': 0.0}\n",
            "('BRAMAgent', 'AC_HardHeaded', 'OppositeModel', 'OfferBestN')\t=>\t\t\t\t\t{'NiceOrDie2.xml': 0.0, 'NiceOrDie1.xml': 0.0}\n",
            "('BRAMAgent', 'AC_IAMHaggler2011', 'OppositeModel', 'OfferBestN')\t=>\t\t\t\t\t{'NiceOrDie2.xml': 0.0, 'NiceOrDie1.xml': 0.0}\n",
            "('BRAMAgent', 'AC_IAMHaggler2011', 'UniformModel', 'OfferBestN')\t=>\t\t\t\t\t{'NiceOrDie2.xml': 0.0, 'NiceOrDie1.xml': 0.0}\n",
            "('BRAMAgent', 'AC_IAMHaggler2011', 'BayesianModel_m', 'OfferBestN')\t=>\t\t\t\t\t{'NiceOrDie2.xml': 0.0, 'NiceOrDie1.xml': 0.0}\n",
            "('BRAMAgent', 'AC_HardHeaded', 'BayesianModel_m', 'OfferBestN')\t=>\t\t\t\t\t{'NiceOrDie2.xml': 0.0, 'NiceOrDie1.xml': 0.0}\n"
          ],
          "name": "stdout"
        }
      ]
    },
    {
      "cell_type": "code",
      "metadata": {
        "id": "uVJ0gdxNWOeO"
      },
      "source": [
        "def get_domain_averages(norm_prof_averages):\n",
        "  profiles = None\n",
        "  for agent in prof_averages:\n",
        "    profiles = set(prof_averages[agent].keys())\n",
        "  domain_averages = dict()\n",
        "  for agent in norm_prof_averages.keys():\n",
        "    values = np.zeros(len(profiles))\n",
        "    for profile in profiles:\n",
        "      values[0] = norm_prof_averages[agent][profile]\n",
        "    mean = np.mean(values)\n",
        "    interval = st.norm.interval(alpha=0.95, loc=mean, scale=st.sem(values))\n",
        "    domain_averages[agent] = (interval[0], interval[1], mean)\n",
        "  return domain_averages"
      ],
      "execution_count": 259,
      "outputs": []
    },
    {
      "cell_type": "code",
      "metadata": {
        "id": "qx0qMR6iXQrp",
        "outputId": "ec6ea877-9396-4f6b-88b0-c77364172346",
        "colab": {
          "base_uri": "https://localhost:8080/"
        }
      },
      "source": [
        "domain_averages = get_domain_averages(norm_prof_averages)\n",
        "for agent in domain_averages:\n",
        "  print(\"{}\\t=>\\t\\t\\t\\t\\t{}\".format(agent, domain_averages[agent]))"
      ],
      "execution_count": 260,
      "outputs": [
        {
          "output_type": "stream",
          "text": [
            "('Nozomi', 'AC_HardHeaded', 'UniformModel', 'OfferBestN')\t=>\t\t\t\t\t(nan, nan, 0.0)\n",
            "('TheNegotiator', 'AC_HardHeaded', 'UniformModel', 'OfferBestN')\t=>\t\t\t\t\t(-0.4456975642507393, 1.3742689928221679, 0.46428571428571425)\n",
            "('Nozomi', 'AC_HardHeaded', 'OppositeModel', 'OfferBestN')\t=>\t\t\t\t\t(nan, nan, 0.0)\n",
            "('TheNegotiator', 'AC_HardHeaded', 'OppositeModel', 'OfferBestN')\t=>\t\t\t\t\t(-0.479981992270027, 1.479981992270027, 0.5)\n",
            "('Nozomi', 'AC_IAMHaggler2011', 'UniformModel', 'OfferBestN')\t=>\t\t\t\t\t(nan, nan, 0.0)\n",
            "('TheNegotiator', 'AC_IAMHaggler2011', 'OppositeModel', 'OfferBestN')\t=>\t\t\t\t\t(-0.41141313623145165, 1.2685559933743087, 0.42857142857142855)\n",
            "('Nozomi', 'AC_IAMHaggler2011', 'OppositeModel', 'OfferBestN')\t=>\t\t\t\t\t(nan, nan, 0.0)\n",
            "('TheNegotiator', 'AC_IAMHaggler2011', 'UniformModel', 'OfferBestN')\t=>\t\t\t\t\t(-0.4456975642507393, 1.3742689928221679, 0.46428571428571425)\n",
            "('TheNegotiator', 'AC_IAMHaggler2011', 'BayesianModel_m', 'OfferBestN')\t=>\t\t\t\t\t(-0.41141313623145165, 1.2685559933743087, 0.42857142857142855)\n",
            "('Nozomi', 'AC_IAMHaggler2011', 'BayesianModel_m', 'OfferBestN')\t=>\t\t\t\t\t(nan, nan, 0.0)\n",
            "('TheNegotiator', 'AC_HardHeaded', 'BayesianModel_m', 'OfferBestN')\t=>\t\t\t\t\t(-0.479981992270027, 1.479981992270027, 0.5)\n",
            "('Nozomi', 'AC_HardHeaded', 'BayesianModel_m', 'OfferBestN')\t=>\t\t\t\t\t(nan, nan, 0.0)\n",
            "('BRAMAgent', 'AC_HardHeaded', 'UniformModel', 'OfferBestN')\t=>\t\t\t\t\t(nan, nan, 0.0)\n",
            "('BRAMAgent', 'AC_HardHeaded', 'OppositeModel', 'OfferBestN')\t=>\t\t\t\t\t(nan, nan, 0.0)\n",
            "('BRAMAgent', 'AC_IAMHaggler2011', 'OppositeModel', 'OfferBestN')\t=>\t\t\t\t\t(nan, nan, 0.0)\n",
            "('BRAMAgent', 'AC_IAMHaggler2011', 'UniformModel', 'OfferBestN')\t=>\t\t\t\t\t(nan, nan, 0.0)\n",
            "('BRAMAgent', 'AC_IAMHaggler2011', 'BayesianModel_m', 'OfferBestN')\t=>\t\t\t\t\t(nan, nan, 0.0)\n",
            "('BRAMAgent', 'AC_HardHeaded', 'BayesianModel_m', 'OfferBestN')\t=>\t\t\t\t\t(nan, nan, 0.0)\n"
          ],
          "name": "stdout"
        },
        {
          "output_type": "stream",
          "text": [
            "/usr/local/lib/python3.7/dist-packages/scipy/stats/_distn_infrastructure.py:2003: RuntimeWarning: invalid value encountered in multiply\n",
            "  lower_bound = _a * scale + loc\n",
            "/usr/local/lib/python3.7/dist-packages/scipy/stats/_distn_infrastructure.py:2004: RuntimeWarning: invalid value encountered in multiply\n",
            "  upper_bound = _b * scale + loc\n"
          ],
          "name": "stderr"
        }
      ]
    },
    {
      "cell_type": "code",
      "metadata": {
        "id": "gJ9_5P9DYMfN"
      },
      "source": [
        "grid1 = get_grid(dom1_df)\n",
        "grid2 = get_grid(dom2_df)\n",
        "grid3 = get_grid(dom3_df)"
      ],
      "execution_count": null,
      "outputs": []
    }
  ]
}