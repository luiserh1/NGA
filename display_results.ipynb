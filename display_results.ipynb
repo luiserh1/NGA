{
  "nbformat": 4,
  "nbformat_minor": 0,
  "metadata": {
    "colab": {
      "name": "display_results.ipynb",
      "provenance": []
    },
    "kernelspec": {
      "name": "python3",
      "display_name": "Python 3"
    },
    "language_info": {
      "name": "python"
    }
  },
  "cells": [
    {
      "cell_type": "markdown",
      "metadata": {
        "id": "Qgh-OHHcJ1MD"
      },
      "source": [
        "Requisitos"
      ]
    },
    {
      "cell_type": "code",
      "metadata": {
        "id": "gCiPr1i0IdzU",
        "colab": {
          "base_uri": "https://localhost:8080/"
        },
        "outputId": "f0d6783f-dd74-4fe4-f85d-cc040e2ccdbf"
      },
      "source": [
        "!pip install matplotlib\n",
        "!pip install pandas"
      ],
      "execution_count": 318,
      "outputs": [
        {
          "output_type": "stream",
          "text": [
            "Requirement already satisfied: matplotlib in /usr/local/lib/python3.7/dist-packages (3.2.2)\n",
            "Requirement already satisfied: kiwisolver>=1.0.1 in /usr/local/lib/python3.7/dist-packages (from matplotlib) (1.3.1)\n",
            "Requirement already satisfied: numpy>=1.11 in /usr/local/lib/python3.7/dist-packages (from matplotlib) (1.19.5)\n",
            "Requirement already satisfied: cycler>=0.10 in /usr/local/lib/python3.7/dist-packages (from matplotlib) (0.10.0)\n",
            "Requirement already satisfied: python-dateutil>=2.1 in /usr/local/lib/python3.7/dist-packages (from matplotlib) (2.8.1)\n",
            "Requirement already satisfied: pyparsing!=2.0.4,!=2.1.2,!=2.1.6,>=2.0.1 in /usr/local/lib/python3.7/dist-packages (from matplotlib) (2.4.7)\n",
            "Requirement already satisfied: six in /usr/local/lib/python3.7/dist-packages (from cycler>=0.10->matplotlib) (1.15.0)\n",
            "Requirement already satisfied: pandas in /usr/local/lib/python3.7/dist-packages (1.1.5)\n",
            "Requirement already satisfied: pytz>=2017.2 in /usr/local/lib/python3.7/dist-packages (from pandas) (2018.9)\n",
            "Requirement already satisfied: numpy>=1.15.4 in /usr/local/lib/python3.7/dist-packages (from pandas) (1.19.5)\n",
            "Requirement already satisfied: python-dateutil>=2.7.3 in /usr/local/lib/python3.7/dist-packages (from pandas) (2.8.1)\n",
            "Requirement already satisfied: six>=1.5 in /usr/local/lib/python3.7/dist-packages (from python-dateutil>=2.7.3->pandas) (1.15.0)\n"
          ],
          "name": "stdout"
        }
      ]
    },
    {
      "cell_type": "code",
      "metadata": {
        "id": "4C0wHnbGJ0q3"
      },
      "source": [
        "import matplotlib.pyplot as plt\n",
        "import pandas as pd\n",
        "import scipy.stats as st\n",
        "import numpy as np"
      ],
      "execution_count": 319,
      "outputs": []
    },
    {
      "cell_type": "markdown",
      "metadata": {
        "id": "pfU_APv8KwEi"
      },
      "source": [
        "Resultados de los torneos cargados directamente desde GitHub"
      ]
    },
    {
      "cell_type": "code",
      "metadata": {
        "id": "eJRxf7DKKJbd"
      },
      "source": [
        "nice_or_die_dom = \"https://github.com/luiserh1/NGA/raw/main/log/dom1.csv\"\n",
        "grocery_dom = \"https://github.com/luiserh1/NGA/raw/main/log/dom2.csv\"\n",
        "energy_dom = \"https://raw.githubusercontent.com/luiserh1/NGA/main/log/dom3.csv\""
      ],
      "execution_count": 324,
      "outputs": []
    },
    {
      "cell_type": "code",
      "metadata": {
        "id": "6JS6ct8FK9Cb"
      },
      "source": [
        "dom1_df = pd.read_csv(nice_or_die_dom, sep=';')\n",
        "dom2_df = pd.read_csv(grocery_dom, sep=';')\n",
        "dom3_df = pd.read_csv(energy_dom, sep=';')"
      ],
      "execution_count": 325,
      "outputs": []
    },
    {
      "cell_type": "code",
      "metadata": {
        "colab": {
          "base_uri": "https://localhost:8080/"
        },
        "id": "Szf7QFj4NhKf",
        "outputId": "13b11a08-9e60-4658-9dd1-5441881347a3"
      },
      "source": [
        "print(dom1_df[:2])\n",
        "print(dom2_df[:2])\n",
        "print(dom3_df[:2])"
      ],
      "execution_count": 326,
      "outputs": [
        {
          "output_type": "stream",
          "text": [
            "  Run time (s)  Round  Exception  ... User Util. 2       Profile 1       Profile 2\n",
            "0        0,986   1001        NaN  ...          0.0  NiceOrDie1.xml  NiceOrDie2.xml\n",
            "1        0,674   1001        NaN  ...          0.0  NiceOrDie1.xml  NiceOrDie2.xml\n",
            "\n",
            "[2 rows x 26 columns]\n",
            "  Run time (s)  Round  ...               Profile 1                Profile 2\n",
            "0        0,528   1001  ...  Grocery_domain_sam.xml  Grocery_domain_mary.xml\n",
            "1        0,461    732  ...  Grocery_domain_sam.xml  Grocery_domain_mary.xml\n",
            "\n",
            "[2 rows x 26 columns]\n",
            "  Run time (s)  Round  ...           Profile 1           Profile 2\n",
            "0       24,471    958  ...  Energy-A-prof1.xml  Energy-A-prof2.xml\n",
            "1       12,952    838  ...  Energy-A-prof1.xml  Energy-A-prof2.xml\n",
            "\n",
            "[2 rows x 26 columns]\n"
          ],
          "name": "stdout"
        }
      ]
    },
    {
      "cell_type": "markdown",
      "metadata": {
        "id": "dcBVd_gxLQGT"
      },
      "source": [
        "Extraenos la información que nos interesa"
      ]
    },
    {
      "cell_type": "code",
      "metadata": {
        "colab": {
          "base_uri": "https://localhost:8080/"
        },
        "id": "LMc0OtRvkj0E",
        "outputId": "4f63185c-dc40-43ab-815e-0ef8a9ebc16a"
      },
      "source": [
        "print(dom1_df.columns)\n",
        "print(dom2_df.columns)\n",
        "print(dom3_df.columns)"
      ],
      "execution_count": 327,
      "outputs": [
        {
          "output_type": "stream",
          "text": [
            "Index(['Run time (s)', 'Round', 'Exception', 'deadline', 'Agreement',\n",
            "       'Discounted', '#agreeing', 'min.util.', 'max.util.', 'Dist. to Pareto',\n",
            "       'Dist. to Nash', 'Social Welfare', 'Agent 1', 'Agent 2', 'Utility 1',\n",
            "       'Utility 2', 'Disc. Util. 1', 'Disc. Util. 2', 'Perceived. Util. 1',\n",
            "       'Perceived. Util. 2', 'User Bother 1', 'User Bother 2', 'User Util. 1',\n",
            "       'User Util. 2', 'Profile 1', 'Profile 2'],\n",
            "      dtype='object')\n",
            "Index(['Run time (s)', 'Round', 'Exception', 'deadline', 'Agreement',\n",
            "       'Discounted', '#agreeing', 'min.util.', 'max.util.', 'Dist. to Pareto',\n",
            "       'Dist. to Nash', 'Social Welfare', 'Agent 1', 'Agent 2', 'Utility 1',\n",
            "       'Utility 2', 'Disc. Util. 1', 'Disc. Util. 2', 'Perceived. Util. 1',\n",
            "       'Perceived. Util. 2', 'User Bother 1', 'User Bother 2', 'User Util. 1',\n",
            "       'User Util. 2', 'Profile 1', 'Profile 2'],\n",
            "      dtype='object')\n",
            "Index(['Run time (s)', 'Round', 'Exception', 'deadline', 'Agreement',\n",
            "       'Discounted', '#agreeing', 'min.util.', 'max.util.', 'Dist. to Pareto',\n",
            "       'Dist. to Nash', 'Social Welfare', 'Agent 1', 'Agent 2', 'Utility 1',\n",
            "       'Utility 2', 'Disc. Util. 1', 'Disc. Util. 2', 'Perceived. Util. 1',\n",
            "       'Perceived. Util. 2', 'User Bother 1', 'User Bother 2', 'User Util. 1',\n",
            "       'User Util. 2', 'Profile 1', 'Profile 2'],\n",
            "      dtype='object')\n"
          ],
          "name": "stdout"
        }
      ]
    },
    {
      "cell_type": "markdown",
      "metadata": {
        "id": "wgCe2CoB3zar"
      },
      "source": [
        "Definimos la rejilla y una serie de identificadores para los hiperparámtros\n",
        "Las claves de la rejilla son tuplas de 4 valores"
      ]
    },
    {
      "cell_type": "code",
      "metadata": {
        "id": "sRwHQ6S83ywk"
      },
      "source": [
        "BIDDING_STRATEGY = 0\n",
        "ACCEPTANCE_STRATEGY = 1\n",
        "OPPONENT_MODEL = 2\n",
        "OPPONENT_MODEL_STRATEGY = 3\n",
        "\n",
        "OPPONENT = 0\n",
        "AGREEMENT = 1\n",
        "UTILITY = 2\n",
        "RUN_TIME = 3\n",
        "IS_CHALLENGE = 4\n",
        "PROFILE = 5"
      ],
      "execution_count": 328,
      "outputs": []
    },
    {
      "cell_type": "code",
      "metadata": {
        "id": "_HJkMPCj2eNT"
      },
      "source": [
        "def clean_agent_name(text):\n",
        "    text = text[:text.index(\"@\")]\n",
        "    challenger = True\n",
        "    try:\n",
        "      text = text[text.index(\"anac201\")+9:]\n",
        "      text = text.replace(\".anac2011.\",\"\")\n",
        "      text = \"\\t\\t\".join(text.split(\".boaframework.\"))\n",
        "      text = text.replace(\"_Offering\",\"\")\n",
        "      text = text.replace(\"-negotiator\",\"\")\n",
        "      text = text.replace(\"acceptanceconditions\",\"\")\n",
        "      text = text.replace(\"opponentmodel.\",\"\")\n",
        "      text = text.replace(\"omstrategy.\",\"\")\n",
        "      text = text.replace(\"_t_n\",\"\")\n",
        "      text = text.replace(\"_n_t\",\"\")\n",
        "    except ValueError:\n",
        "      challenger = False\n",
        "    return (text, challenger)"
      ],
      "execution_count": 329,
      "outputs": []
    },
    {
      "cell_type": "code",
      "metadata": {
        "id": "7_SEQ7Bq-x8t"
      },
      "source": [
        "def get_grid(data_frame):\n",
        "  grid = {}\n",
        "  for i in range(len(data_frame)):\n",
        "    agent1 = data_frame.at[i, \"Agent 1\"]\n",
        "    agent1, challenger1 = clean_agent_name(agent1)\n",
        "    agent2 = data_frame.at[i, \"Agent 2\"]\n",
        "    agent2, challenger2 = clean_agent_name(agent2)\n",
        "    utility1 = float(data_frame.at[i, \"Utility 1\"])\n",
        "    utility2 = float(data_frame.at[i, \"Utility 2\"])\n",
        "    profile1 = data_frame.at[i, \"Profile 1\"]\n",
        "    profile2 = data_frame.at[i, \"Profile 2\"]\n",
        "    run_time = float(data_frame.at[i, \"Run time (s)\"].replace(\",\", \".\"))\n",
        "    agreement = data_frame.at[i, \"Agreement\"] == \"Yes\"\n",
        "    if challenger1:\n",
        "      hiperparameters = agent1.split(\"\\t\\t\")\n",
        "      key = tuple(hiperparameters)\n",
        "      rows = grid.get(key, [])\n",
        "      row = tuple([agent2, agreement, utility1, run_time, not challenger2,\n",
        "                   profile1])\n",
        "      rows.append(row)\n",
        "      grid[key] = rows\n",
        "    if challenger2:\n",
        "      hiperparameters = agent2.split(\"\\t\\t\")\n",
        "      key = tuple(hiperparameters)\n",
        "      rows = grid.get(key, [])\n",
        "      row = tuple([agent1, agreement,utility2, run_time, not challenger1,\n",
        "                   profile2])\n",
        "      rows.append(row)\n",
        "      grid[key] = rows\n",
        "  return grid"
      ],
      "execution_count": 330,
      "outputs": []
    },
    {
      "cell_type": "code",
      "metadata": {
        "id": "3Ko3xiMSDz5J"
      },
      "source": [
        "def get_profile_averages(grid):\n",
        "  agent_profile_averages = dict()\n",
        "  for agent in  grid.keys():\n",
        "    rows = grid[agent]\n",
        "    profiles = dict()\n",
        "    for row in rows:\n",
        "      profile = row[PROFILE]\n",
        "      values = profiles.get(profile, [])\n",
        "      values.append(row[UTILITY])\n",
        "      profiles[profile] = values\n",
        "    my_averages = dict()\n",
        "    for profile in profiles.keys():\n",
        "      average = sum(profiles[profile]) / len(profiles[profile])\n",
        "      my_averages[profile] = average\n",
        "    agent_profile_averages[agent] = my_averages\n",
        "  return agent_profile_averages\n",
        "\n",
        "\n",
        "def normalize_averages(prof_averages):\n",
        "  profiles = None\n",
        "  for agent in prof_averages:\n",
        "    profiles = set(prof_averages[agent].keys())\n",
        "  normalized_averages = dict()\n",
        "  bounds_per_profile = dict()\n",
        "  for profile in profiles:\n",
        "    values = []\n",
        "    for agent in prof_averages:\n",
        "      values.append(prof_averages[agent][profile])\n",
        "    bounds_per_profile[profile] = (min(values), max(values))\n",
        "  for agent in prof_averages:\n",
        "    normalized_averages[agent] = dict()\n",
        "    for profile in profiles:\n",
        "      normalized_averages[agent][profile] = \\\n",
        "        (prof_averages[agent][profile] - bounds_per_profile[profile][0]) / \\\n",
        "        (bounds_per_profile[profile][1] - bounds_per_profile[profile][0])\n",
        "  return normalized_averages"
      ],
      "execution_count": 331,
      "outputs": []
    },
    {
      "cell_type": "code",
      "metadata": {
        "id": "uVJ0gdxNWOeO"
      },
      "source": [
        "def get_domain_averages(norm_prof_averages):\n",
        "  profiles = None\n",
        "  for agent in norm_prof_averages:\n",
        "    profiles = set(norm_prof_averages[agent].keys())\n",
        "  domain_averages = dict()\n",
        "  for agent in norm_prof_averages.keys():\n",
        "    values = np.zeros(len(profiles))\n",
        "    for profile in profiles:\n",
        "      values[0] = norm_prof_averages[agent][profile]\n",
        "    mean = np.mean(values)\n",
        "    interval = st.norm.interval(alpha=0.95, loc=mean, scale=st.sem(values))\n",
        "    domain_averages[agent] = (interval[0], interval[1], mean)\n",
        "  return domain_averages"
      ],
      "execution_count": 343,
      "outputs": []
    },
    {
      "cell_type": "code",
      "metadata": {
        "id": "gJ9_5P9DYMfN"
      },
      "source": [
        "grid1 = get_grid(dom1_df)\n",
        "grid2 = get_grid(dom2_df)\n",
        "grid3 = get_grid(dom3_df)"
      ],
      "execution_count": 344,
      "outputs": []
    },
    {
      "cell_type": "code",
      "metadata": {
        "id": "zcUQaw5yf7sY"
      },
      "source": [
        "prof_averages1 = get_profile_averages(grid1)\n",
        "prof_averages2 = get_profile_averages(grid2)\n",
        "prof_averages3 = get_profile_averages(grid3)\n",
        "norm_prof_averages1 = normalize_averages(prof_averages1)\n",
        "norm_prof_averages2 = normalize_averages(prof_averages2)\n",
        "norm_prof_averages3 = normalize_averages(prof_averages3)"
      ],
      "execution_count": 345,
      "outputs": []
    },
    {
      "cell_type": "code",
      "metadata": {
        "id": "6u4EiDM5gLNn",
        "outputId": "74429157-77f4-49a1-b214-b038d7661041",
        "colab": {
          "base_uri": "https://localhost:8080/"
        }
      },
      "source": [
        "dom_averages1 = get_domain_averages(norm_prof_averages1)\n",
        "dom_averages2 = get_domain_averages(norm_prof_averages2)\n",
        "dom_averages3 = get_domain_averages(norm_prof_averages3)"
      ],
      "execution_count": 346,
      "outputs": [
        {
          "output_type": "stream",
          "text": [
            "/usr/local/lib/python3.7/dist-packages/scipy/stats/_distn_infrastructure.py:2003: RuntimeWarning: invalid value encountered in multiply\n",
            "  lower_bound = _a * scale + loc\n",
            "/usr/local/lib/python3.7/dist-packages/scipy/stats/_distn_infrastructure.py:2004: RuntimeWarning: invalid value encountered in multiply\n",
            "  upper_bound = _b * scale + loc\n"
          ],
          "name": "stderr"
        }
      ]
    },
    {
      "cell_type": "code",
      "metadata": {
        "id": "A41g_6gxg-EC"
      },
      "source": [
        "# Plot time"
      ],
      "execution_count": null,
      "outputs": []
    }
  ]
}