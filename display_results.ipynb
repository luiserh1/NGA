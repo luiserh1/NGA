{
  "nbformat": 4,
  "nbformat_minor": 0,
  "metadata": {
    "colab": {
      "name": "display_results.ipynb",
      "provenance": []
    },
    "kernelspec": {
      "name": "python3",
      "display_name": "Python 3"
    },
    "language_info": {
      "name": "python"
    }
  },
  "cells": [
    {
      "cell_type": "markdown",
      "metadata": {
        "id": "Qgh-OHHcJ1MD"
      },
      "source": [
        "Requisitos"
      ]
    },
    {
      "cell_type": "code",
      "metadata": {
        "id": "gCiPr1i0IdzU",
        "colab": {
          "base_uri": "https://localhost:8080/"
        },
        "outputId": "3d06db37-959e-48a0-8a1f-f3df7c9b1196"
      },
      "source": [
        "!pip install matplotlib\n",
        "!pip install pandas"
      ],
      "execution_count": 490,
      "outputs": [
        {
          "output_type": "stream",
          "text": [
            "Requirement already satisfied: matplotlib in /usr/local/lib/python3.7/dist-packages (3.2.2)\n",
            "Requirement already satisfied: python-dateutil>=2.1 in /usr/local/lib/python3.7/dist-packages (from matplotlib) (2.8.1)\n",
            "Requirement already satisfied: pyparsing!=2.0.4,!=2.1.2,!=2.1.6,>=2.0.1 in /usr/local/lib/python3.7/dist-packages (from matplotlib) (2.4.7)\n",
            "Requirement already satisfied: cycler>=0.10 in /usr/local/lib/python3.7/dist-packages (from matplotlib) (0.10.0)\n",
            "Requirement already satisfied: numpy>=1.11 in /usr/local/lib/python3.7/dist-packages (from matplotlib) (1.19.5)\n",
            "Requirement already satisfied: kiwisolver>=1.0.1 in /usr/local/lib/python3.7/dist-packages (from matplotlib) (1.3.1)\n",
            "Requirement already satisfied: six>=1.5 in /usr/local/lib/python3.7/dist-packages (from python-dateutil>=2.1->matplotlib) (1.15.0)\n",
            "Requirement already satisfied: pandas in /usr/local/lib/python3.7/dist-packages (1.1.5)\n",
            "Requirement already satisfied: pytz>=2017.2 in /usr/local/lib/python3.7/dist-packages (from pandas) (2018.9)\n",
            "Requirement already satisfied: numpy>=1.15.4 in /usr/local/lib/python3.7/dist-packages (from pandas) (1.19.5)\n",
            "Requirement already satisfied: python-dateutil>=2.7.3 in /usr/local/lib/python3.7/dist-packages (from pandas) (2.8.1)\n",
            "Requirement already satisfied: six>=1.5 in /usr/local/lib/python3.7/dist-packages (from python-dateutil>=2.7.3->pandas) (1.15.0)\n"
          ],
          "name": "stdout"
        }
      ]
    },
    {
      "cell_type": "code",
      "metadata": {
        "id": "4C0wHnbGJ0q3"
      },
      "source": [
        "import matplotlib.pyplot as plt\n",
        "import pandas as pd\n",
        "import scipy.stats as st\n",
        "import numpy as np\n",
        "from math import isnan"
      ],
      "execution_count": 491,
      "outputs": []
    },
    {
      "cell_type": "markdown",
      "metadata": {
        "id": "pfU_APv8KwEi"
      },
      "source": [
        "Resultados de los torneos cargados directamente desde GitHub"
      ]
    },
    {
      "cell_type": "code",
      "metadata": {
        "id": "eJRxf7DKKJbd"
      },
      "source": [
        "nice_or_die_dom = \"https://github.com/luiserh1/NGA/raw/main/log/dom1.csv\"\n",
        "grocery_dom = \"https://github.com/luiserh1/NGA/raw/main/log/dom2.csv\"\n",
        "energy_dom = \"https://raw.githubusercontent.com/luiserh1/NGA/main/log/dom3.csv\""
      ],
      "execution_count": 492,
      "outputs": []
    },
    {
      "cell_type": "code",
      "metadata": {
        "id": "6JS6ct8FK9Cb"
      },
      "source": [
        "dom1_df = pd.read_csv(nice_or_die_dom, sep=';')\n",
        "dom2_df = pd.read_csv(grocery_dom, sep=';')\n",
        "dom3_df = pd.read_csv(energy_dom, sep=';')"
      ],
      "execution_count": 493,
      "outputs": []
    },
    {
      "cell_type": "code",
      "metadata": {
        "colab": {
          "base_uri": "https://localhost:8080/"
        },
        "id": "Szf7QFj4NhKf",
        "outputId": "56ad9ba6-8532-4162-edcf-703ed6c08569"
      },
      "source": [
        "print(dom1_df[:2])\n",
        "print(dom2_df[:2])\n",
        "print(dom3_df[:2])"
      ],
      "execution_count": 494,
      "outputs": [
        {
          "output_type": "stream",
          "text": [
            "  Run time (s)  Round  Exception  ... User Util. 2       Profile 1       Profile 2\n",
            "0        0,986   1001        NaN  ...          0.0  NiceOrDie1.xml  NiceOrDie2.xml\n",
            "1        0,674   1001        NaN  ...          0.0  NiceOrDie1.xml  NiceOrDie2.xml\n",
            "\n",
            "[2 rows x 26 columns]\n",
            "  Run time (s)  Round  ...               Profile 1                Profile 2\n",
            "0        0,528   1001  ...  Grocery_domain_sam.xml  Grocery_domain_mary.xml\n",
            "1        0,461    732  ...  Grocery_domain_sam.xml  Grocery_domain_mary.xml\n",
            "\n",
            "[2 rows x 26 columns]\n",
            "  Run time (s)  Round  ...           Profile 1           Profile 2\n",
            "0       24,471    958  ...  Energy-A-prof1.xml  Energy-A-prof2.xml\n",
            "1       12,952    838  ...  Energy-A-prof1.xml  Energy-A-prof2.xml\n",
            "\n",
            "[2 rows x 26 columns]\n"
          ],
          "name": "stdout"
        }
      ]
    },
    {
      "cell_type": "markdown",
      "metadata": {
        "id": "dcBVd_gxLQGT"
      },
      "source": [
        "Extraenos la información que nos interesa"
      ]
    },
    {
      "cell_type": "code",
      "metadata": {
        "colab": {
          "base_uri": "https://localhost:8080/"
        },
        "id": "LMc0OtRvkj0E",
        "outputId": "38a64d56-c2fc-45ff-84d1-090e1773809a"
      },
      "source": [
        "print(dom1_df.columns)\n",
        "print(dom2_df.columns)\n",
        "print(dom3_df.columns)"
      ],
      "execution_count": 495,
      "outputs": [
        {
          "output_type": "stream",
          "text": [
            "Index(['Run time (s)', 'Round', 'Exception', 'deadline', 'Agreement',\n",
            "       'Discounted', '#agreeing', 'min.util.', 'max.util.', 'Dist. to Pareto',\n",
            "       'Dist. to Nash', 'Social Welfare', 'Agent 1', 'Agent 2', 'Utility 1',\n",
            "       'Utility 2', 'Disc. Util. 1', 'Disc. Util. 2', 'Perceived. Util. 1',\n",
            "       'Perceived. Util. 2', 'User Bother 1', 'User Bother 2', 'User Util. 1',\n",
            "       'User Util. 2', 'Profile 1', 'Profile 2'],\n",
            "      dtype='object')\n",
            "Index(['Run time (s)', 'Round', 'Exception', 'deadline', 'Agreement',\n",
            "       'Discounted', '#agreeing', 'min.util.', 'max.util.', 'Dist. to Pareto',\n",
            "       'Dist. to Nash', 'Social Welfare', 'Agent 1', 'Agent 2', 'Utility 1',\n",
            "       'Utility 2', 'Disc. Util. 1', 'Disc. Util. 2', 'Perceived. Util. 1',\n",
            "       'Perceived. Util. 2', 'User Bother 1', 'User Bother 2', 'User Util. 1',\n",
            "       'User Util. 2', 'Profile 1', 'Profile 2'],\n",
            "      dtype='object')\n",
            "Index(['Run time (s)', 'Round', 'Exception', 'deadline', 'Agreement',\n",
            "       'Discounted', '#agreeing', 'min.util.', 'max.util.', 'Dist. to Pareto',\n",
            "       'Dist. to Nash', 'Social Welfare', 'Agent 1', 'Agent 2', 'Utility 1',\n",
            "       'Utility 2', 'Disc. Util. 1', 'Disc. Util. 2', 'Perceived. Util. 1',\n",
            "       'Perceived. Util. 2', 'User Bother 1', 'User Bother 2', 'User Util. 1',\n",
            "       'User Util. 2', 'Profile 1', 'Profile 2'],\n",
            "      dtype='object')\n"
          ],
          "name": "stdout"
        }
      ]
    },
    {
      "cell_type": "markdown",
      "metadata": {
        "id": "wgCe2CoB3zar"
      },
      "source": [
        "Definimos la rejilla y una serie de identificadores para los hiperparámtros\n",
        "Las claves de la rejilla son tuplas de 4 valores"
      ]
    },
    {
      "cell_type": "code",
      "metadata": {
        "id": "sRwHQ6S83ywk"
      },
      "source": [
        "BIDDING_STRATEGY = 0\n",
        "ACCEPTANCE_STRATEGY = 1\n",
        "OPPONENT_MODEL = 2\n",
        "OPPONENT_MODEL_STRATEGY = 3\n",
        "\n",
        "OPPONENT = 0\n",
        "AGREEMENT = 1\n",
        "UTILITY = 2\n",
        "RUN_TIME = 3\n",
        "I_CHALLENGE = 4\n",
        "YOU_CHALLENGE = 5\n",
        "PROFILE = 6"
      ],
      "execution_count": 496,
      "outputs": []
    },
    {
      "cell_type": "code",
      "metadata": {
        "id": "_HJkMPCj2eNT"
      },
      "source": [
        "def clean_agent_name(text):\n",
        "    text = text[:text.index(\"@\")]\n",
        "    challenger = True\n",
        "    try:\n",
        "      text = text[text.index(\"anac201\")+9:]\n",
        "      text = text.replace(\".anac2011.\",\"\")\n",
        "      text = \"\\t\\t\".join(text.split(\".boaframework.\"))\n",
        "      text = text.replace(\"_Offering\",\"\")\n",
        "      text = text.replace(\"-negotiator\",\"\")\n",
        "      text = text.replace(\"acceptanceconditions\",\"\")\n",
        "      text = text.replace(\"opponentmodel.\",\"\")\n",
        "      text = text.replace(\"omstrategy.\",\"\")\n",
        "      text = text.replace(\"_t_n\",\"\")\n",
        "      text = text.replace(\"_n_t\",\"\")\n",
        "    except ValueError:\n",
        "      challenger = False\n",
        "    return (text, challenger)"
      ],
      "execution_count": 497,
      "outputs": []
    },
    {
      "cell_type": "code",
      "metadata": {
        "id": "7_SEQ7Bq-x8t"
      },
      "source": [
        "def get_grid(data_frame):\n",
        "  grid = {}\n",
        "  for i in range(len(data_frame)):\n",
        "    agent1 = data_frame.at[i, \"Agent 1\"]\n",
        "    agent1, challenger1 = clean_agent_name(agent1)\n",
        "    agent2 = data_frame.at[i, \"Agent 2\"]\n",
        "    agent2, challenger2 = clean_agent_name(agent2)\n",
        "    utility1 = float(data_frame.at[i, \"Utility 1\"])\n",
        "    utility2 = float(data_frame.at[i, \"Utility 2\"])\n",
        "    profile1 = data_frame.at[i, \"Profile 1\"]\n",
        "    profile2 = data_frame.at[i, \"Profile 2\"]\n",
        "    run_time = float(data_frame.at[i, \"Run time (s)\"].replace(\",\", \".\"))\n",
        "    agreement = data_frame.at[i, \"Agreement\"] == \"Yes\"\n",
        "    if challenger1:\n",
        "      hiperparameters = agent1.split(\"\\t\\t\")\n",
        "      key = tuple(hiperparameters)\n",
        "      rows = grid.get(key, [])\n",
        "      row = tuple([agent2, agreement, utility1, run_time, challenger1,\n",
        "                   challenger2, profile1])\n",
        "      rows.append(row)\n",
        "      grid[key] = rows\n",
        "    else:\n",
        "      rows = grid.get(agent1, [])\n",
        "      row = tuple([agent2, agreement, utility1, run_time, challenger1,\n",
        "                   challenger2, profile1])\n",
        "      rows.append(row)\n",
        "      grid[agent1] = rows\n",
        "    if challenger2:\n",
        "      hiperparameters = agent2.split(\"\\t\\t\")\n",
        "      key = tuple(hiperparameters)\n",
        "      rows = grid.get(key, [])\n",
        "      row = tuple([agent1, agreement, utility2, run_time, challenger2,\n",
        "                   challenger1, profile2])\n",
        "      rows.append(row)\n",
        "      grid[key] = rows\n",
        "    else:\n",
        "      rows = grid.get(agent2, [])\n",
        "      row = tuple([agent1, agreement, utility2, run_time, challenger2,\n",
        "                   challenger1, profile2])\n",
        "      rows.append(row)\n",
        "      grid[agent2] = rows\n",
        "      \n",
        "  return grid"
      ],
      "execution_count": 498,
      "outputs": []
    },
    {
      "cell_type": "code",
      "metadata": {
        "id": "3Ko3xiMSDz5J"
      },
      "source": [
        "def get_profile_averages(grid, only_challenged=True):\n",
        "  agent_profile_averages = dict()\n",
        "  for agent in  grid.keys():\n",
        "    rows = grid[agent]\n",
        "    profiles = dict()\n",
        "    for row in rows:\n",
        "      # if only_challenged and (not row[I_CHALLENGE] and row[YOU_CHALLENGE])\n",
        "      #   not :\n",
        "      #   continue\n",
        "      profile = row[PROFILE]\n",
        "      values = profiles.get(profile, [])\n",
        "      values.append(row[UTILITY])\n",
        "      profiles[profile] = values\n",
        "    my_averages = dict()\n",
        "    for profile in profiles.keys():\n",
        "      average = sum(profiles[profile]) / len(profiles[profile])\n",
        "      my_averages[profile] = average\n",
        "    agent_profile_averages[agent] = my_averages\n",
        "  return agent_profile_averages\n",
        "\n",
        "\n",
        "def normalize_averages(prof_averages):\n",
        "  profiles = None\n",
        "  for agent in prof_averages:\n",
        "    profiles = set(prof_averages[agent].keys())\n",
        "  normalized_averages = dict()\n",
        "  bounds_per_profile = dict()\n",
        "  for profile in profiles:\n",
        "    values = []\n",
        "    for agent in prof_averages:\n",
        "      values.append(prof_averages[agent][profile])\n",
        "    bounds_per_profile[profile] = (min(values), max(values))\n",
        "  for agent in prof_averages:\n",
        "    normalized_averages[agent] = dict()\n",
        "    for profile in profiles:\n",
        "      normalized_averages[agent][profile] = \\\n",
        "        (prof_averages[agent][profile] - bounds_per_profile[profile][0]) / \\\n",
        "        (bounds_per_profile[profile][1] - bounds_per_profile[profile][0])\n",
        "  return normalized_averages"
      ],
      "execution_count": 499,
      "outputs": []
    },
    {
      "cell_type": "code",
      "metadata": {
        "id": "uVJ0gdxNWOeO"
      },
      "source": [
        "def get_domain_averages(norm_prof_averages):\n",
        "  profiles = None\n",
        "  for agent in norm_prof_averages:\n",
        "    profiles = set(norm_prof_averages[agent].keys())\n",
        "  domain_averages = dict()\n",
        "  for agent in norm_prof_averages.keys():\n",
        "    values = np.zeros(len(profiles))\n",
        "    for profile in profiles:\n",
        "      values[0] = norm_prof_averages[agent][profile]\n",
        "    mean = np.mean(values)\n",
        "    interval = st.norm.interval(alpha=0.95, loc=mean, scale=st.sem(values))\n",
        "    min = interval[0]\n",
        "    if isnan(min) or min < 0:\n",
        "      min = 0\n",
        "    max = interval[1]\n",
        "    if isnan(max) or max > 1:\n",
        "      max = 1\n",
        "    domain_averages[agent] = (min, max, mean)\n",
        "  return domain_averages"
      ],
      "execution_count": 500,
      "outputs": []
    },
    {
      "cell_type": "code",
      "metadata": {
        "id": "gJ9_5P9DYMfN"
      },
      "source": [
        "grid1 = get_grid(dom1_df)\n",
        "grid2 = get_grid(dom2_df)\n",
        "grid3 = get_grid(dom3_df)"
      ],
      "execution_count": 501,
      "outputs": []
    },
    {
      "cell_type": "code",
      "metadata": {
        "id": "zcUQaw5yf7sY"
      },
      "source": [
        "prof_averages1 = get_profile_averages(grid1)\n",
        "prof_averages2 = get_profile_averages(grid2)\n",
        "prof_averages3 = get_profile_averages(grid3)\n",
        "norm_prof_averages1 = normalize_averages(prof_averages1)\n",
        "norm_prof_averages2 = normalize_averages(prof_averages2)\n",
        "norm_prof_averages3 = normalize_averages(prof_averages3)"
      ],
      "execution_count": 502,
      "outputs": []
    },
    {
      "cell_type": "code",
      "metadata": {
        "id": "6u4EiDM5gLNn",
        "colab": {
          "base_uri": "https://localhost:8080/"
        },
        "outputId": "16fa7080-bb27-4b17-f4d0-5c4a58df593d"
      },
      "source": [
        "dom_averages1 = get_domain_averages(norm_prof_averages1)\n",
        "dom_averages2 = get_domain_averages(norm_prof_averages2)\n",
        "dom_averages3 = get_domain_averages(norm_prof_averages3)"
      ],
      "execution_count": 503,
      "outputs": [
        {
          "output_type": "stream",
          "text": [
            "/usr/local/lib/python3.7/dist-packages/scipy/stats/_distn_infrastructure.py:2003: RuntimeWarning: invalid value encountered in multiply\n",
            "  lower_bound = _a * scale + loc\n",
            "/usr/local/lib/python3.7/dist-packages/scipy/stats/_distn_infrastructure.py:2004: RuntimeWarning: invalid value encountered in multiply\n",
            "  upper_bound = _b * scale + loc\n"
          ],
          "name": "stderr"
        }
      ]
    },
    {
      "cell_type": "code",
      "metadata": {
        "id": "qX721TbjrfEB",
        "outputId": "f0f2f6e9-9c1f-44a2-dd00-77ea68162de1",
        "colab": {
          "base_uri": "https://localhost:8080/"
        }
      },
      "source": [
        "dom_averages1 = {k: v for k, v in sorted(dom_averages1.items(),\n",
        "                                         key=lambda item: item[1][2])}\n",
        "for agent in dom_averages1.keys():\n",
        "  print(\"{}\\t=>\\t\\t{}\".format(agent, dom_averages1[agent]))\n",
        "print(\"\\n====================================================\\n\")\n",
        "dom_averages2 = {k: v for k, v in sorted(dom_averages2.items(),\n",
        "                                         key=lambda item: item[1][2])}\n",
        "for agent in dom_averages2.keys():\n",
        "  print(\"{}\\t=>\\t\\t{}\".format(agent, dom_averages2[agent]))\n",
        "print(\"\\n====================================================\\n\")\n",
        "dom_averages3 = {k: v for k, v in sorted(dom_averages3.items(),\n",
        "                                         key=lambda item: item[1][2])}\n",
        "for agent in dom_averages3.keys():\n",
        "  print(\"{}\\t=>\\t\\t{}\".format(agent, dom_averages3[agent]))"
      ],
      "execution_count": 506,
      "outputs": [
        {
          "output_type": "stream",
          "text": [
            "('Nozomi', 'AC_HardHeaded', 'UniformModel', 'OfferBestN')\t=>\t\t(0, 1, 0.0)\n",
            "('Nozomi', 'AC_HardHeaded', 'OppositeModel', 'OfferBestN')\t=>\t\t(0, 1, 0.0)\n",
            "('Nozomi', 'AC_IAMHaggler2011', 'UniformModel', 'OfferBestN')\t=>\t\t(0, 1, 0.0)\n",
            "('Nozomi', 'AC_IAMHaggler2011', 'OppositeModel', 'OfferBestN')\t=>\t\t(0, 1, 0.0)\n",
            "('Nozomi', 'AC_IAMHaggler2011', 'BayesianModel_m', 'OfferBestN')\t=>\t\t(0, 1, 0.0)\n",
            "('Nozomi', 'AC_HardHeaded', 'BayesianModel_m', 'OfferBestN')\t=>\t\t(0, 1, 0.0)\n",
            "('BRAMAgent', 'AC_HardHeaded', 'UniformModel', 'OfferBestN')\t=>\t\t(0, 1, 0.0)\n",
            "('BRAMAgent', 'AC_HardHeaded', 'OppositeModel', 'OfferBestN')\t=>\t\t(0, 1, 0.0)\n",
            "('BRAMAgent', 'AC_IAMHaggler2011', 'OppositeModel', 'OfferBestN')\t=>\t\t(0, 1, 0.0)\n",
            "('BRAMAgent', 'AC_IAMHaggler2011', 'UniformModel', 'OfferBestN')\t=>\t\t(0, 1, 0.0)\n",
            "('BRAMAgent', 'AC_IAMHaggler2011', 'BayesianModel_m', 'OfferBestN')\t=>\t\t(0, 1, 0.0)\n",
            "('BRAMAgent', 'AC_HardHeaded', 'BayesianModel_m', 'OfferBestN')\t=>\t\t(0, 1, 0.0)\n",
            "Agent_K2\t=>\t\t(0, 1, 0.0)\n",
            "Agent_K\t=>\t\t(0, 1, 0.0)\n",
            "('TheNegotiator', 'AC_IAMHaggler2011', 'OppositeModel', 'OfferBestN')\t=>\t\t(0, 0.6098042476188392, 0.20601745521359652)\n",
            "('TheNegotiator', 'AC_IAMHaggler2011', 'BayesianModel_m', 'OfferBestN')\t=>\t\t(0, 0.6098042476188392, 0.20601745521359652)\n",
            "Gahboninho\t=>\t\t(0, 0.6098042476188392, 0.20601745521359652)\n",
            "('TheNegotiator', 'AC_HardHeaded', 'UniformModel', 'OfferBestN')\t=>\t\t(0, 0.6606212682537426, 0.22318557648139625)\n",
            "('TheNegotiator', 'AC_IAMHaggler2011', 'UniformModel', 'OfferBestN')\t=>\t\t(0, 0.6606212682537426, 0.22318557648139625)\n",
            "('TheNegotiator', 'AC_HardHeaded', 'OppositeModel', 'OfferBestN')\t=>\t\t(0, 0.7114382888886459, 0.24035369774919596)\n",
            "('TheNegotiator', 'AC_HardHeaded', 'BayesianModel_m', 'OfferBestN')\t=>\t\t(0, 0.7114382888886459, 0.24035369774919596)\n",
            "Yushu\t=>\t\t(0, 1, 0.5)\n",
            "\n",
            "====================================================\n",
            "\n",
            "('Nozomi', 'AC_HardHeaded', 'OppositeModel', 'OfferBestN')\t=>\t\t(0, 1, 0.0)\n",
            "('Nozomi', 'AC_HardHeaded', 'BayesianModel_m', 'OfferBestN')\t=>\t\t(0, 0.08784065781458686, 0.029676258992805394)\n",
            "('Nozomi', 'AC_HardHeaded', 'UniformModel', 'OfferBestN')\t=>\t\t(0, 0.12244455331730475, 0.04136690647482027)\n",
            "('BRAMAgent', 'AC_IAMHaggler2011', 'OppositeModel', 'OfferBestN')\t=>\t\t(0, 0.5075238007065055, 0.1714628297362102)\n",
            "('BRAMAgent', 'AC_IAMHaggler2011', 'UniformModel', 'OfferBestN')\t=>\t\t(0, 0.5376912993498988, 0.18165467625899176)\n",
            "('BRAMAgent', 'AC_HardHeaded', 'OppositeModel', 'OfferBestN')\t=>\t\t(0, 0.548338651812272, 0.18525179856114968)\n",
            "('BRAMAgent', 'AC_HardHeaded', 'BayesianModel_m', 'OfferBestN')\t=>\t\t(0, 0.5669715186214292, 0.19154676258992737)\n",
            "('BRAMAgent', 'AC_HardHeaded', 'UniformModel', 'OfferBestN')\t=>\t\t(0, 0.5802807091993961, 0.19604316546762493)\n",
            "('BRAMAgent', 'AC_IAMHaggler2011', 'BayesianModel_m', 'OfferBestN')\t=>\t\t(0, 0.5935898997773632, 0.2005395683453225)\n",
            "('Nozomi', 'AC_IAMHaggler2011', 'OppositeModel', 'OfferBestN')\t=>\t\t(0, 0.7568493042004371, 0.2556954436450831)\n",
            "('Nozomi', 'AC_IAMHaggler2011', 'BayesianModel_m', 'OfferBestN')\t=>\t\t(0, 0.7745948916377279, 0.2616906474820137)\n",
            "('TheNegotiator', 'AC_IAMHaggler2011', 'UniformModel', 'OfferBestN')\t=>\t\t(0, 0.8012132727936637, 0.2706834532374094)\n",
            "Gahboninho\t=>\t\t(0, 0.8322680508089242, 0.2811750599520384)\n",
            "('TheNegotiator', 'AC_IAMHaggler2011', 'OppositeModel', 'OfferBestN')\t=>\t\t(0, 0.8606609907085883, 0.2907673860911269)\n",
            "('TheNegotiator', 'AC_HardHeaded', 'UniformModel', 'OfferBestN')\t=>\t\t(0, 0.8615482700804546, 0.29106714628297403)\n",
            "('TheNegotiator', 'AC_HardHeaded', 'BayesianModel_m', 'OfferBestN')\t=>\t\t(0, 0.9041376799299494, 0.3054556354916063)\n",
            "('TheNegotiator', 'AC_HardHeaded', 'OppositeModel', 'OfferBestN')\t=>\t\t(0, 0.9316433404577498, 0.3147482014388486)\n",
            "('Nozomi', 'AC_IAMHaggler2011', 'UniformModel', 'OfferBestN')\t=>\t\t(0, 0.9476143691513106, 0.32014388489208573)\n",
            "('TheNegotiator', 'AC_IAMHaggler2011', 'BayesianModel_m', 'OfferBestN')\t=>\t\t(0, 0.985767382141486, 0.3330335731414865)\n",
            "Agent_K2\t=>\t\t(0, 1, 0.350119904076738)\n",
            "Agent_K\t=>\t\t(0, 1, 0.38399280575539524)\n",
            "Yushu\t=>\t\t(0, 1, 0.5)\n",
            "\n",
            "====================================================\n",
            "\n",
            "Gahboninho\t=>\t\t(0, 1, 0.0)\n",
            "('TheNegotiator', 'AC_HardHeaded', 'OppositeModel', 'OfferBestN')\t=>\t\t(0, 0.2981742228570661, 0.10073576043980112)\n",
            "('TheNegotiator', 'AC_IAMHaggler2011', 'BayesianModel_m', 'OfferBestN')\t=>\t\t(0, 0.4796464941312346, 0.16204470616414154)\n",
            "('TheNegotiator', 'AC_HardHeaded', 'BayesianModel_m', 'OfferBestN')\t=>\t\t(0, 0.4919907892402908, 0.1662151268765322)\n",
            "('TheNegotiator', 'AC_HardHeaded', 'UniformModel', 'OfferBestN')\t=>\t\t(0, 0.5177561487297863, 0.1749197461300327)\n",
            "('TheNegotiator', 'AC_IAMHaggler2011', 'UniformModel', 'OfferBestN')\t=>\t\t(0, 0.5557528686830274, 0.18775663203530005)\n",
            "('TheNegotiator', 'AC_IAMHaggler2011', 'OppositeModel', 'OfferBestN')\t=>\t\t(0, 0.6032804269277507, 0.2038134349197137)\n",
            "Agent_K2\t=>\t\t(0, 0.6811178021237403, 0.23011016542134669)\n",
            "('BRAMAgent', 'AC_HardHeaded', 'BayesianModel_m', 'OfferBestN')\t=>\t\t(0, 0.9400387667066694, 0.3175845286011955)\n",
            "Agent_K\t=>\t\t(0, 0.9671357720763539, 0.32673903369355906)\n",
            "('BRAMAgent', 'AC_IAMHaggler2011', 'OppositeModel', 'OfferBestN')\t=>\t\t(0, 0.9848187169958376, 0.33271307426021524)\n",
            "('BRAMAgent', 'AC_IAMHaggler2011', 'UniformModel', 'OfferBestN')\t=>\t\t(0, 0.9863033719599286, 0.3332146529861205)\n",
            "('BRAMAgent', 'AC_HardHeaded', 'UniformModel', 'OfferBestN')\t=>\t\t(0, 0.9993001028098409, 0.3376054938604671)\n",
            "('BRAMAgent', 'AC_HardHeaded', 'OppositeModel', 'OfferBestN')\t=>\t\t(0, 1, 0.3435718834297454)\n",
            "('BRAMAgent', 'AC_IAMHaggler2011', 'BayesianModel_m', 'OfferBestN')\t=>\t\t(0, 1, 0.3460950519913818)\n",
            "('Nozomi', 'AC_IAMHaggler2011', 'OppositeModel', 'OfferBestN')\t=>\t\t(0, 1, 0.4199653841255449)\n",
            "('Nozomi', 'AC_IAMHaggler2011', 'UniformModel', 'OfferBestN')\t=>\t\t(0, 1, 0.43287545625134366)\n",
            "('Nozomi', 'AC_HardHeaded', 'OppositeModel', 'OfferBestN')\t=>\t\t(0, 1, 0.4458697280161643)\n",
            "('Nozomi', 'AC_HardHeaded', 'BayesianModel_m', 'OfferBestN')\t=>\t\t(0, 1, 0.4471815246456746)\n",
            "('Nozomi', 'AC_HardHeaded', 'UniformModel', 'OfferBestN')\t=>\t\t(0, 1, 0.49276444036926087)\n",
            "('Nozomi', 'AC_IAMHaggler2011', 'BayesianModel_m', 'OfferBestN')\t=>\t\t(0, 1, 0.5)\n"
          ],
          "name": "stdout"
        }
      ]
    },
    {
      "cell_type": "code",
      "metadata": {
        "id": "A41g_6gxg-EC"
      },
      "source": [
        "# Plot time"
      ],
      "execution_count": 505,
      "outputs": []
    }
  ]
}